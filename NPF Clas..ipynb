{
 "cells": [
  {
   "cell_type": "code",
   "execution_count": null,
   "id": "0176b323-d895-4fb7-bcbf-73203efc01ab",
   "metadata": {},
   "outputs": [],
   "source": [
    "# libraries\n",
    "import numpy as np\n",
    "import matplotlib.pyplot as plt\n",
    "from matplotlib import rc\n",
    "import pandas as pd\n",
    "\n",
    "fig, axs = plt.subplots()\n",
    "fig.patch.set_facecolor('whitesmoke')\n",
    "# Data\n",
    "r = [0,1,2,3,4,5,6,7,8,9,10,11]\n",
    "raw_data = {'greenBars': [42,47,47,56,36,36,22,11,28,48,39,42], 'orangeBars': [20,21,20,17,20,23,18,30,24,19,23,16],'blueBars': [38,32,33,27,43,42,60,59,49,32,38,42]}\n",
    "df = pd.DataFrame(raw_data)\n",
    " \n",
    "# From raw value to percentage\n",
    "totals = [i+j+k for i,j,k in zip(df['greenBars'], df['orangeBars'], df['blueBars'])]\n",
    "greenBars = [i / j * 100 for i,j in zip(df['greenBars'], totals)]\n",
    "orangeBars = [i / j * 100 for i,j in zip(df['orangeBars'], totals)]\n",
    "blueBars = [i / j * 100 for i,j in zip(df['blueBars'], totals)]\n",
    " \n",
    "# plot\n",
    "barWidth = 0.85\n",
    "names=(1,2,3,4,5,6,7,8,9,10,11,12)\n",
    "#names = ('January','February','March','April','May','June','July','August','September','October','November','December')\n",
    "# Create green Bars\n",
    "plt.bar(r, greenBars, color='midnightblue', edgecolor='black', width=barWidth,label='NPF event')\n",
    "# Create orange Bars\n",
    "plt.bar(r, orangeBars, bottom=greenBars, color='limegreen', edgecolor='black', width=barWidth,label='Undefined')\n",
    "# Create blue Bars\n",
    "plt.bar(r, blueBars, bottom=[i+j for i,j in zip(greenBars, orangeBars)], color='darkred', edgecolor='black', width=barWidth,label='Non-event')\n",
    " \n",
    "# Custom x axis\n",
    "plt.xticks(r, names)\n",
    "plt.grid(axis='y')\n",
    "axs.set_axisbelow(True)\n",
    "plt.ylim([0,100]) \n",
    "#plt.legend(loc=\"best\",shadow = True)\n",
    "plt.xlabel(\"Months\",fontweight='bold')\n",
    "plt.ylabel(\"Percentage of days (%)\",fontweight='bold')\n",
    "#plt.title(\"Frequency of NPF events\",fontweight='bold')\n",
    "plt.legend(bbox_to_anchor=(0.5, 1.1), loc='upper center', ncol=3, fancybox=True, shadow=True)\n",
    "# Show graphic\n",
    "plt.savefig('FREQUENCY.png')\n",
    "plt.show()"
   ]
  }
 ],
 "metadata": {
  "kernelspec": {
   "display_name": "Python 3 (ipykernel)",
   "language": "python",
   "name": "python3"
  },
  "language_info": {
   "codemirror_mode": {
    "name": "ipython",
    "version": 3
   },
   "file_extension": ".py",
   "mimetype": "text/x-python",
   "name": "python",
   "nbconvert_exporter": "python",
   "pygments_lexer": "ipython3",
   "version": "3.9.13"
  }
 },
 "nbformat": 4,
 "nbformat_minor": 5
}
