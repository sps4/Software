{
 "cells": [
  {
   "cell_type": "code",
   "execution_count": 164,
   "metadata": {},
   "outputs": [],
   "source": [
    "import numpy as np\n",
    "import pandas as pd "
   ]
  },
  {
   "cell_type": "code",
   "execution_count": 165,
   "metadata": {},
   "outputs": [],
   "source": [
    "a=1 #Setting the accommondation coefficient\n",
    "Mx=98.08    #g/mol, molar mass of H2SO4\n",
    "Mair=28.965 #g/mol,  - \" -        air\n",
    "Pr=1   #atm  pressure\n",
    "Dair=19.7 # diffusion volume of air\n",
    "Dx=51.96  # diffusion volume of H2SO4\n",
    "R = 8314.7 # gas constant LPa/K.mol\n",
    "Temp=298.15 #Temperature in Kelvin"
   ]
  },
  {
   "cell_type": "code",
   "execution_count": 166,
   "metadata": {},
   "outputs": [
    {
     "name": "stdout",
     "output_type": "stream",
     "text": [
      "0.10933921580756938\n",
      "1.2929349700174152e-07\n"
     ]
    }
   ],
   "source": [
    "#calculate diffusion coefficient [cm^2/s]\n",
    "D = (0.001 * (Temp**1.75)*np.sqrt( (1/Mair)+(1/Mx)))/(Pr*(Dair**(1/3)+Dx**(1/3))**2)\n",
    "print(D)\n",
    "#calculate lamda [m]\n",
    "lamda =3*(np.sqrt((np.pi*Mx)/(8*R*Temp)))*D*1e-4\n",
    "print(lamda)"
   ]
  },
  {
   "cell_type": "code",
   "execution_count": 167,
   "metadata": {},
   "outputs": [
    {
     "name": "stdout",
     "output_type": "stream",
     "text": [
      "[8.753e-07, 9.002e-07, 9.521000000000001e-07, 1.007e-06, 1.0651999999999998e-06, 1.1268e-06, 1.1919e-06, 1.2608999999999999e-06, 1.3339999999999998e-06, 1.4114e-06, 1.4933e-06, 1.5801e-06, 1.6720999999999998e-06, 1.7695e-06, 1.8728e-06, 1.9822e-06, 2.0983e-06, 2.2213e-06, 2.3518e-06, 2.4902e-06, 2.637e-06, 2.7927999999999998e-06, 2.9582999999999997e-06, 3.1338999999999998e-06, 3.3205e-06, 3.5188e-06, 3.7295e-06, 3.9536e-06, 4.192e-06, 4.4456e-06, 4.7157e-06, 5.0035e-06, 5.3101999999999996e-06, 5.6372e-06, 5.9863e-06, 6.3590000000000004e-06, 6.757299999999999e-06, 7.1832999999999995e-06, 7.6392e-06, 8.1276e-06, 8.6514e-06, 9.2135e-06, 9.817599999999999e-06, 1.04675e-05, 1.1167400000000001e-05, 1.1922199999999999e-05, 1.27373e-05, 1.3618799999999997e-05, 1.45735e-05, 1.56092e-05, 1.67511e-05, 1.7959e-05, 1.92941e-05, 2.0752199999999998e-05, 2.23473e-05, 2.40955e-05, 2.60148e-05, 2.8125299999999996e-05, 3.04499e-05, 3.30142e-05, 3.58469e-05, 3.8979899999999996e-05, 4.2449e-05, 4.6340199999999994e-05, 5.05593e-05, 5.52941e-05, 6.0553499999999995e-05, 6.63984e-05, 7.28974e-05, 8.01268e-05, 8.40437e-05]\n",
      "71\n"
     ]
    }
   ],
   "source": [
    "#data for 2017-05-01\n",
    "pos1 = pd.read_excel('cs.xlsx')\n",
    "#print(pos1)\n",
    "diam =pos1.iloc[0, 1:72]\n",
    "#print(diam)\n",
    "#print(len(diam))\n",
    "Dp =[0 for a in range(71)]\n",
    "for i in range(71):\n",
    "    Dp[i]=diam[i]\n",
    "    # nm to cm \n",
    "    Dp[i]=Dp[i]*1e-7\n",
    "print(Dp)\n",
    "print(len(Dp))\n",
    "Kn=[0 for a in range(71)]\n",
    "b =[0 for a in range(71)]\n",
    "for i in range(71):\n",
    "    Kn[i]=(200*lamda)/Dp[i]\n",
    "    b[i]=(Kn[i]+1)/((0.377*Kn[i])+1+(4/(3*a))*(Kn[i]**2)+(4/(3*a))*Kn[i])\n",
    "N =[0 for a in range(71)]\n",
    "#make a CS array of 288 values\n",
    "CS=[0 for a in range(8893)]"
   ]
  },
  {
   "cell_type": "code",
   "execution_count": 168,
   "metadata": {},
   "outputs": [],
   "source": [
    "k=0\n",
    "for i in range(8893):\n",
    "    k=k+1\n",
    "    con=pos1.iloc[k,1:72]\n",
    "    for w in range(71):\n",
    "        N[w]=con[w]\n",
    "    sum=0\n",
    "    for j in range(70):\n",
    "        sum=sum+((2*np.pi*D)*(b[j]*N[j]+b[j+1]*N[j+1])*(Dp[j+1]-Dp[j]))/(2*2.303)\n",
    "    CS[i]=sum\n",
    "    \n",
    "\n",
    "    "
   ]
  },
  {
   "cell_type": "code",
   "execution_count": 169,
   "metadata": {},
   "outputs": [],
   "source": [
    "df = pd.DataFrame(CS).T\n",
    "df.to_excel(excel_writer = \"Consink.xlsx\")"
   ]
  },
  {
   "cell_type": "code",
   "execution_count": null,
   "metadata": {},
   "outputs": [],
   "source": []
  }
 ],
 "metadata": {
  "kernelspec": {
   "display_name": "Python 3 (ipykernel)",
   "language": "python",
   "name": "python3"
  },
  "language_info": {
   "codemirror_mode": {
    "name": "ipython",
    "version": 3
   },
   "file_extension": ".py",
   "mimetype": "text/x-python",
   "name": "python",
   "nbconvert_exporter": "python",
   "pygments_lexer": "ipython3",
   "version": "3.9.13"
  }
 },
 "nbformat": 4,
 "nbformat_minor": 4
}
